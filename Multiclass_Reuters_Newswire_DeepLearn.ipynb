{
  "nbformat": 4,
  "nbformat_minor": 0,
  "metadata": {
    "colab": {
      "name": "Multiclass_Reuters_Newswire_DeepLearn.ipynb",
      "provenance": [],
      "authorship_tag": "ABX9TyNuX3NdYN8QLFUjZI+duKq4",
      "include_colab_link": true
    },
    "kernelspec": {
      "name": "python3",
      "display_name": "Python 3"
    },
    "language_info": {
      "name": "python"
    }
  },
  "cells": [
    {
      "cell_type": "markdown",
      "metadata": {
        "id": "view-in-github",
        "colab_type": "text"
      },
      "source": [
        "<a href=\"https://colab.research.google.com/github/Nabizeus/textsemantix/blob/main/Multiclass_Reuters_Newswire_DeepLearn.ipynb\" target=\"_parent\"><img src=\"https://colab.research.google.com/assets/colab-badge.svg\" alt=\"Open In Colab\"/></a>"
      ]
    },
    {
      "cell_type": "code",
      "execution_count": 1,
      "metadata": {
        "colab": {
          "base_uri": "https://localhost:8080/"
        },
        "id": "eqracg2n6j9L",
        "outputId": "57afd4dd-7c0c-4e87-c8f4-c9cd7667cdd0"
      },
      "outputs": [
        {
          "output_type": "stream",
          "name": "stdout",
          "text": [
            "Downloading data from https://storage.googleapis.com/tensorflow/tf-keras-datasets/reuters.npz\n",
            "2113536/2110848 [==============================] - 0s 0us/step\n",
            "2121728/2110848 [==============================] - 0s 0us/step\n"
          ]
        }
      ],
      "source": [
        "from keras.datasets import reuters\n",
        "(train_data, train_labels), (test_data, test_labels) = reuters.load_data(\n",
        "num_words=10000)"
      ]
    },
    {
      "cell_type": "code",
      "source": [
        "len(train_data)"
      ],
      "metadata": {
        "colab": {
          "base_uri": "https://localhost:8080/"
        },
        "id": "BHWP15sx7Gxx",
        "outputId": "62adf1eb-5a34-4232-8814-193660dcb7e2"
      },
      "execution_count": 5,
      "outputs": [
        {
          "output_type": "execute_result",
          "data": {
            "text/plain": [
              "8982"
            ]
          },
          "metadata": {},
          "execution_count": 5
        }
      ]
    },
    {
      "cell_type": "code",
      "source": [
        "len(test_data)"
      ],
      "metadata": {
        "colab": {
          "base_uri": "https://localhost:8080/"
        },
        "id": "Sr-zmlmb7Oke",
        "outputId": "84a77b39-f823-41fb-e860-4d1a0b177458"
      },
      "execution_count": 6,
      "outputs": [
        {
          "output_type": "execute_result",
          "data": {
            "text/plain": [
              "2246"
            ]
          },
          "metadata": {},
          "execution_count": 6
        }
      ]
    },
    {
      "cell_type": "code",
      "source": [
        "train_data[10]"
      ],
      "metadata": {
        "colab": {
          "base_uri": "https://localhost:8080/"
        },
        "id": "FnrDLrm87X2-",
        "outputId": "0071ca3f-e095-42ad-c968-a0cc2b2b79bc"
      },
      "execution_count": 10,
      "outputs": [
        {
          "output_type": "execute_result",
          "data": {
            "text/plain": [
              "[1,\n",
              " 245,\n",
              " 273,\n",
              " 207,\n",
              " 156,\n",
              " 53,\n",
              " 74,\n",
              " 160,\n",
              " 26,\n",
              " 14,\n",
              " 46,\n",
              " 296,\n",
              " 26,\n",
              " 39,\n",
              " 74,\n",
              " 2979,\n",
              " 3554,\n",
              " 14,\n",
              " 46,\n",
              " 4689,\n",
              " 4329,\n",
              " 86,\n",
              " 61,\n",
              " 3499,\n",
              " 4795,\n",
              " 14,\n",
              " 61,\n",
              " 451,\n",
              " 4329,\n",
              " 17,\n",
              " 12]"
            ]
          },
          "metadata": {},
          "execution_count": 10
        }
      ]
    },
    {
      "cell_type": "code",
      "source": [
        "word_index = reuters.get_word_index()\n",
        "reverse_word_index = dict([(value, key) for (key, value) in word_index.items()])\n",
        "decoded_newswire = ' '.join([reverse_word_index.get(i - 3, '?') for i in\n",
        "train_data[0]])\n",
        "\n",
        "#Note that the indices are offset by 3 because 0, 1, and 2 are reserved\n",
        "#indices for “padding,” “start of sequence,” and “unknown.”"
      ],
      "metadata": {
        "id": "fibR_w-X7aZw"
      },
      "execution_count": 17,
      "outputs": []
    },
    {
      "cell_type": "code",
      "source": [
        "decoded_newswire[:]"
      ],
      "metadata": {
        "colab": {
          "base_uri": "https://localhost:8080/",
          "height": 73
        },
        "id": "g_QHYkLK7uat",
        "outputId": "8ce77ae5-cdae-4f65-9a6a-af0c2ebd6d85"
      },
      "execution_count": 18,
      "outputs": [
        {
          "output_type": "execute_result",
          "data": {
            "text/plain": [
              "'? ? ? said as a result of its december acquisition of space co it expects earnings per share in 1987 of 1 15 to 1 30 dlrs per share up from 70 cts in 1986 the company said pretax net should rise to nine to 10 mln dlrs from six mln dlrs in 1986 and rental operation revenues to 19 to 22 mln dlrs from 12 5 mln dlrs it said cash flow per share this year should be 2 50 to three dlrs reuter 3'"
            ],
            "application/vnd.google.colaboratory.intrinsic+json": {
              "type": "string"
            }
          },
          "metadata": {},
          "execution_count": 18
        }
      ]
    },
    {
      "cell_type": "code",
      "source": [
        "train_labels[10]"
      ],
      "metadata": {
        "colab": {
          "base_uri": "https://localhost:8080/"
        },
        "id": "8tTw2Us-700-",
        "outputId": "14a26700-c8dd-4e97-aa60-fc1627f94ef6"
      },
      "execution_count": 19,
      "outputs": [
        {
          "output_type": "execute_result",
          "data": {
            "text/plain": [
              "3"
            ]
          },
          "metadata": {},
          "execution_count": 19
        }
      ]
    },
    {
      "cell_type": "code",
      "source": [
        ""
      ],
      "metadata": {
        "id": "4E2KXTIr8N8M"
      },
      "execution_count": null,
      "outputs": []
    },
    {
      "cell_type": "markdown",
      "source": [
        "**3.14 Encoding the data**"
      ],
      "metadata": {
        "id": "YcxjpClW8oVc"
      }
    },
    {
      "cell_type": "code",
      "source": [
        "import numpy as np\n",
        "def vectorize_sequences(sequences, dimension=10000):\n",
        "  results = np.zeros((len(sequences), dimension))\n",
        "  for i, sequence in enumerate(sequences):\n",
        "    results[i, sequence] = 1.\n",
        "  return results\n",
        "x_train = vectorize_sequences(train_data) #Vectorized training data\n",
        "x_test = vectorize_sequences(test_data) #Vectorized test data"
      ],
      "metadata": {
        "id": "rpA-NoSO8qnj"
      },
      "execution_count": 22,
      "outputs": []
    },
    {
      "cell_type": "code",
      "source": [
        "def to_one_hot(labels, dimension=46):\n",
        "  results = np.zeros((len(labels), dimension))\n",
        "  for i, label in enumerate(labels):\n",
        "    results[i, label] = 1.\n",
        "  return results\n",
        "one_hot_train_labels = to_one_hot(train_labels)\n",
        "one_hot_test_labels = to_one_hot(test_labels)"
      ],
      "metadata": {
        "id": "T37GbkbX81Fe"
      },
      "execution_count": 23,
      "outputs": []
    },
    {
      "cell_type": "markdown",
      "source": [
        "Note that there is a built-in way to do this in Keras, which you’ve already seen in action\n",
        "in the MNIST example:\n",
        "\n"
      ],
      "metadata": {
        "id": "3LUuGAcq9MdJ"
      }
    },
    {
      "cell_type": "code",
      "source": [
        "from keras.utils.np_utils import to_categorical\n",
        "one_hot_train_labels = to_categorical(train_labels)\n",
        "one_hot_test_labels = to_categorical(test_labels)"
      ],
      "metadata": {
        "id": "VJzWGtFV9NOo"
      },
      "execution_count": 24,
      "outputs": []
    },
    {
      "cell_type": "markdown",
      "source": [
        "**Building your network**"
      ],
      "metadata": {
        "id": "y8TVKvG3_79r"
      }
    },
    {
      "cell_type": "code",
      "source": [
        "from keras import models\n",
        "from keras import layers\n",
        "model = models.Sequential()\n",
        "model.add(layers.Dense(64, activation='relu', input_shape=(10000,)))\n",
        "model.add(layers.Dense(64, activation='relu'))\n",
        "model.add(layers.Dense(46, activation='softmax'))\n"
      ],
      "metadata": {
        "id": "LzxQLyJg9SHY"
      },
      "execution_count": 25,
      "outputs": []
    },
    {
      "cell_type": "markdown",
      "source": [
        "There are two other things you should note about this architecture:\n",
        "\n",
        "\n",
        "*   You end the network with a Dense layer of size 46. This means for each input\n",
        "sample, the network will output a 46-dimensional vector. Each entry in this vector\n",
        "(each dimension) will encode a different output class. \n",
        "*    The last layer uses a softmax activation. You saw this pattern in the MNIST\n",
        "example. It means the network will output a probability distribution over the 46\n",
        "different output classes—for every input sample, the network will produce a 46-\n",
        "dimensional output vector, where output[i] is the probability that the sample\n",
        "belongs to class i. The 46 scores will sum to 1.\n",
        "\n",
        "\n",
        "\n",
        "\n",
        " \n",
        " *The best loss function to use in this case is **categorical_crossentropy**. It measures\n",
        "the distance between two probability distributions: here, between the probability distribution\n",
        "output by the network and the true distribution of the labels. By minimizing\n",
        "the distance between these two distributions, you train the network to output something\n",
        "as close a  possible to the true labels.*"
      ],
      "metadata": {
        "id": "S1kEHzr9Ak1I"
      }
    },
    {
      "cell_type": "code",
      "source": [
        "model.compile(optimizer='rmsprop',\n",
        "loss='categorical_crossentropy',\n",
        "metrics=['accuracy'])"
      ],
      "metadata": {
        "id": "sVazZejzANmz"
      },
      "execution_count": 26,
      "outputs": []
    },
    {
      "cell_type": "markdown",
      "source": [
        "**Validation**"
      ],
      "metadata": {
        "id": "meTqABFIAZh8"
      }
    },
    {
      "cell_type": "code",
      "source": [
        "x_val = x_train[:1000]\n",
        "partial_x_train = x_train[1000:]\n",
        "y_val = one_hot_train_labels[:1000]\n",
        "partial_y_train = one_hot_train_labels[1000:]"
      ],
      "metadata": {
        "id": "jvpi8F6_ATUH"
      },
      "execution_count": 27,
      "outputs": []
    },
    {
      "cell_type": "code",
      "source": [
        "history = model.fit(partial_x_train,\n",
        "partial_y_train,\n",
        "epochs=20,\n",
        "batch_size=512,\n",
        "validation_data=(x_val, y_val))"
      ],
      "metadata": {
        "colab": {
          "base_uri": "https://localhost:8080/"
        },
        "id": "sQBpbggLBV8l",
        "outputId": "4b1aa140-1d88-494b-e969-4568c6540559"
      },
      "execution_count": 28,
      "outputs": [
        {
          "output_type": "stream",
          "name": "stdout",
          "text": [
            "Epoch 1/20\n",
            "16/16 [==============================] - 2s 65ms/step - loss: 2.5600 - accuracy: 0.5427 - val_loss: 1.6944 - val_accuracy: 0.6550\n",
            "Epoch 2/20\n",
            "16/16 [==============================] - 1s 49ms/step - loss: 1.4022 - accuracy: 0.7130 - val_loss: 1.2836 - val_accuracy: 0.7120\n",
            "Epoch 3/20\n",
            "16/16 [==============================] - 1s 48ms/step - loss: 1.0571 - accuracy: 0.7739 - val_loss: 1.1146 - val_accuracy: 0.7480\n",
            "Epoch 4/20\n",
            "16/16 [==============================] - 1s 48ms/step - loss: 0.8497 - accuracy: 0.8170 - val_loss: 1.0169 - val_accuracy: 0.7800\n",
            "Epoch 5/20\n",
            "16/16 [==============================] - 1s 48ms/step - loss: 0.6915 - accuracy: 0.8514 - val_loss: 0.9734 - val_accuracy: 0.7840\n",
            "Epoch 6/20\n",
            "16/16 [==============================] - 1s 50ms/step - loss: 0.5655 - accuracy: 0.8773 - val_loss: 0.9102 - val_accuracy: 0.8070\n",
            "Epoch 7/20\n",
            "16/16 [==============================] - 1s 50ms/step - loss: 0.4628 - accuracy: 0.9005 - val_loss: 0.9008 - val_accuracy: 0.8060\n",
            "Epoch 8/20\n",
            "16/16 [==============================] - 1s 48ms/step - loss: 0.3755 - accuracy: 0.9191 - val_loss: 0.8806 - val_accuracy: 0.8040\n",
            "Epoch 9/20\n",
            "16/16 [==============================] - 1s 49ms/step - loss: 0.3135 - accuracy: 0.9325 - val_loss: 0.8818 - val_accuracy: 0.8180\n",
            "Epoch 10/20\n",
            "16/16 [==============================] - 1s 49ms/step - loss: 0.2627 - accuracy: 0.9407 - val_loss: 0.8997 - val_accuracy: 0.8030\n",
            "Epoch 11/20\n",
            "16/16 [==============================] - 1s 49ms/step - loss: 0.2227 - accuracy: 0.9476 - val_loss: 0.9195 - val_accuracy: 0.8080\n",
            "Epoch 12/20\n",
            "16/16 [==============================] - 1s 48ms/step - loss: 0.1984 - accuracy: 0.9498 - val_loss: 0.9009 - val_accuracy: 0.8080\n",
            "Epoch 13/20\n",
            "16/16 [==============================] - 1s 48ms/step - loss: 0.1757 - accuracy: 0.9539 - val_loss: 0.9346 - val_accuracy: 0.8130\n",
            "Epoch 14/20\n",
            "16/16 [==============================] - 1s 50ms/step - loss: 0.1556 - accuracy: 0.9534 - val_loss: 0.9381 - val_accuracy: 0.8110\n",
            "Epoch 15/20\n",
            "16/16 [==============================] - 1s 48ms/step - loss: 0.1449 - accuracy: 0.9549 - val_loss: 0.9727 - val_accuracy: 0.8120\n",
            "Epoch 16/20\n",
            "16/16 [==============================] - 1s 48ms/step - loss: 0.1327 - accuracy: 0.9557 - val_loss: 1.0294 - val_accuracy: 0.7980\n",
            "Epoch 17/20\n",
            "16/16 [==============================] - 1s 51ms/step - loss: 0.1302 - accuracy: 0.9563 - val_loss: 0.9946 - val_accuracy: 0.8110\n",
            "Epoch 18/20\n",
            "16/16 [==============================] - 1s 48ms/step - loss: 0.1245 - accuracy: 0.9558 - val_loss: 0.9729 - val_accuracy: 0.8160\n",
            "Epoch 19/20\n",
            "16/16 [==============================] - 1s 48ms/step - loss: 0.1164 - accuracy: 0.9594 - val_loss: 1.0316 - val_accuracy: 0.8010\n",
            "Epoch 20/20\n",
            "16/16 [==============================] - 1s 49ms/step - loss: 0.1152 - accuracy: 0.9568 - val_loss: 1.0229 - val_accuracy: 0.8080\n"
          ]
        }
      ]
    },
    {
      "cell_type": "code",
      "source": [
        "import matplotlib.pyplot as plt\n",
        "loss = history.history['loss']\n",
        "val_loss = history.history['val_loss']\n",
        "epochs = range(1, len(loss) + 1)\n",
        "plt.plot(epochs, loss, 'bo', label='Training loss')\n",
        "plt.plot(epochs, val_loss, 'b', label='Validation loss')\n",
        "plt.title('Training and validation loss')\n",
        "plt.xlabel('Epochs')\n",
        "plt.ylabel('Loss')\n",
        "plt.legend()\n",
        "plt.show()"
      ],
      "metadata": {
        "colab": {
          "base_uri": "https://localhost:8080/",
          "height": 295
        },
        "id": "nQLxZ9P7BXgG",
        "outputId": "d589c2a3-0d06-42ee-c9e2-f08c0c1837d1"
      },
      "execution_count": 29,
      "outputs": [
        {
          "output_type": "display_data",
          "data": {
            "text/plain": [
              "<Figure size 432x288 with 1 Axes>"
            ],
            "image/png": "[encoded data removed]"
          },
          "metadata": {
            "needs_background": "light"
          }
        }
      ]
    },
    {
      "cell_type": "code",
      "source": [
        "plt.clf()\n",
        "acc = history.history['accuracy']\n",
        "val_acc = history.history['val_accuracy']\n",
        "plt.plot(epochs, acc, 'bo', label='Training acc')\n",
        "plt.plot(epochs, val_acc, 'b', label='Validation acc')\n",
        "plt.title('Training and validation accuracy')\n",
        "plt.xlabel('Epochs')\n",
        "plt.ylabel('Accuracy')\n",
        "plt.legend()\n",
        "plt.show()"
      ],
      "metadata": {
        "colab": {
          "base_uri": "https://localhost:8080/",
          "height": 295
        },
        "id": "m33de03NBdWV",
        "outputId": "76ec3f96-3cc2-4de1-93af-6ebb80546a17"
      },
      "execution_count": 32,
      "outputs": [
        {
          "output_type": "display_data",
          "data": {
            "text/plain": [
              "<Figure size 432x288 with 1 Axes>"
            ],
            "image/png": "[encoded data removed]"
          },
          "metadata": {
            "needs_background": "light"
          }
        }
      ]
    },
    {
      "cell_type": "code",
      "source": [
        "model = models.Sequential()\n",
        "model.add(layers.Dense(64, activation='relu', input_shape=(10000,)))\n",
        "model.add(layers.Dense(64, activation='relu'))\n",
        "model.add(layers.Dense(46, activation='softmax'))\n",
        "model.compile(optimizer='rmsprop',\n",
        "loss='categorical_crossentropy',\n",
        "metrics=['accuracy'])\n",
        "model.fit(partial_x_train,\n",
        "partial_y_train,\n",
        "epochs=9,\n",
        "batch_size=512,\n",
        "validation_data=(x_val, y_val))\n",
        "results = model.evaluate(x_test, one_hot_test_labels)\n"
      ],
      "metadata": {
        "colab": {
          "base_uri": "https://localhost:8080/"
        },
        "id": "GAjU76BKBk7q",
        "outputId": "cc123c0d-08f4-4489-a3ea-107eec5919c3"
      },
      "execution_count": 33,
      "outputs": [
        {
          "output_type": "stream",
          "name": "stdout",
          "text": [
            "Epoch 1/9\n",
            "16/16 [==============================] - 2s 63ms/step - loss: 2.7474 - accuracy: 0.5182 - val_loss: 1.7839 - val_accuracy: 0.6490\n",
            "Epoch 2/9\n",
            "16/16 [==============================] - 1s 48ms/step - loss: 1.4192 - accuracy: 0.7126 - val_loss: 1.2961 - val_accuracy: 0.7240\n",
            "Epoch 3/9\n",
            "16/16 [==============================] - 1s 48ms/step - loss: 1.0274 - accuracy: 0.7835 - val_loss: 1.1274 - val_accuracy: 0.7490\n",
            "Epoch 4/9\n",
            "16/16 [==============================] - 1s 50ms/step - loss: 0.8084 - accuracy: 0.8272 - val_loss: 1.0508 - val_accuracy: 0.7750\n",
            "Epoch 5/9\n",
            "16/16 [==============================] - 1s 49ms/step - loss: 0.6522 - accuracy: 0.8609 - val_loss: 1.0007 - val_accuracy: 0.7870\n",
            "Epoch 6/9\n",
            "16/16 [==============================] - 1s 47ms/step - loss: 0.5252 - accuracy: 0.8896 - val_loss: 0.9504 - val_accuracy: 0.7920\n",
            "Epoch 7/9\n",
            "16/16 [==============================] - 1s 49ms/step - loss: 0.4245 - accuracy: 0.9114 - val_loss: 0.9232 - val_accuracy: 0.8080\n",
            "Epoch 8/9\n",
            "16/16 [==============================] - 1s 48ms/step - loss: 0.3508 - accuracy: 0.9268 - val_loss: 0.8993 - val_accuracy: 0.8100\n",
            "Epoch 9/9\n",
            "16/16 [==============================] - 1s 48ms/step - loss: 0.2891 - accuracy: 0.9369 - val_loss: 0.9402 - val_accuracy: 0.8110\n",
            "71/71 [==============================] - 0s 4ms/step - loss: 1.0120 - accuracy: 0.7827\n"
          ]
        }
      ]
    },
    {
      "cell_type": "code",
      "source": [
        "results"
      ],
      "metadata": {
        "colab": {
          "base_uri": "https://localhost:8080/"
        },
        "id": "CHEnPvTSC9h5",
        "outputId": "0507486b-7554-47aa-fc64-372f44e3ca55"
      },
      "execution_count": 34,
      "outputs": [
        {
          "output_type": "execute_result",
          "data": {
            "text/plain": [
              "[1.0120307207107544, 0.7827248573303223]"
            ]
          },
          "metadata": {},
          "execution_count": 34
        }
      ]
    },
    {
      "cell_type": "markdown",
      "source": [
        "**Random Baseline test**"
      ],
      "metadata": {
        "id": "7UvrR8H4DNHi"
      }
    },
    {
      "cell_type": "code",
      "source": [
        "import copy\n",
        "test_labels_copy = copy.copy(test_labels)\n",
        "np.random.shuffle(test_labels_copy)\n",
        "hits_array = np.array(test_labels) == np.array(test_labels_copy)\n",
        "float(np.sum(hits_array)) / len(test_labels)"
      ],
      "metadata": {
        "colab": {
          "base_uri": "https://localhost:8080/"
        },
        "id": "QC3eiv-HDFtA",
        "outputId": "818da238-9897-49c4-d2bd-13bd5ed1a6bf"
      },
      "execution_count": 35,
      "outputs": [
        {
          "output_type": "execute_result",
          "data": {
            "text/plain": [
              "0.1705253784505788"
            ]
          },
          "metadata": {},
          "execution_count": 35
        }
      ]
    },
    {
      "cell_type": "code",
      "source": [
        "predictions = model.predict(x_test)"
      ],
      "metadata": {
        "id": "ktKtJgZLDXYN"
      },
      "execution_count": 36,
      "outputs": []
    },
    {
      "cell_type": "code",
      "source": [
        "predictions.shape\n",
        "# 2246 samples and 46 dimensions (newsgropus/classes)"
      ],
      "metadata": {
        "colab": {
          "base_uri": "https://localhost:8080/"
        },
        "id": "-1GSYof-D0Zr",
        "outputId": "c78eb435-85fa-48a6-fe7d-a883f6624e10"
      },
      "execution_count": 45,
      "outputs": [
        {
          "output_type": "execute_result",
          "data": {
            "text/plain": [
              "(2246, 46)"
            ]
          },
          "metadata": {},
          "execution_count": 45
        }
      ]
    },
    {
      "cell_type": "code",
      "source": [
        "np.sum(predictions[0])"
      ],
      "metadata": {
        "colab": {
          "base_uri": "https://localhost:8080/"
        },
        "id": "-0JerTQTDlty",
        "outputId": "f9c304f6-6455-42de-b515-bc68deb35181"
      },
      "execution_count": 39,
      "outputs": [
        {
          "output_type": "execute_result",
          "data": {
            "text/plain": [
              "1.0000001"
            ]
          },
          "metadata": {},
          "execution_count": 39
        }
      ]
    },
    {
      "cell_type": "code",
      "source": [
        "np.argmax(predictions[100])\n"
      ],
      "metadata": {
        "colab": {
          "base_uri": "https://localhost:8080/"
        },
        "id": "JKiERO-LDqnW",
        "outputId": "7f6cb870-c773-4cfa-d1cc-999fdc670152"
      },
      "execution_count": 52,
      "outputs": [
        {
          "output_type": "execute_result",
          "data": {
            "text/plain": [
              "41"
            ]
          },
          "metadata": {},
          "execution_count": 52
        }
      ]
    },
    {
      "cell_type": "markdown",
      "source": [
        "**Listing 3.23 A model with an information bottleneck**"
      ],
      "metadata": {
        "id": "KRHh-cAMEXUE"
      }
    },
    {
      "cell_type": "code",
      "source": [
        "results_loss=[]\n",
        "results_acc=[]\n",
        "for nodes in range(4,256,5):\n",
        "  model = models.Sequential()\n",
        "  model.add(layers.Dense(64, activation='relu', input_shape=(10000,)))\n",
        "  model.add(layers.Dense(nodes, activation='relu'))\n",
        "  model.add(layers.Dense(46, activation='softmax'))\n",
        "  model.compile(optimizer='rmsprop',\n",
        "  loss='categorical_crossentropy',\n",
        "  metrics=['accuracy'])\n",
        "  model.fit(partial_x_train,\n",
        "  partial_y_train,\n",
        "  epochs=20,\n",
        "  batch_size=128,\n",
        "  validation_data=(x_val, y_val),verbose=0)\n",
        "  results = model.evaluate(x_test, one_hot_test_labels)\n",
        "  results_loss.append(results[0])\n",
        "  results_acc.append(results[1])\n",
        "  print('Nodes:', nodes)\n",
        "  print('Results:', results)\n",
        "  print('=====================================')\n"
      ],
      "metadata": {
        "colab": {
          "base_uri": "https://localhost:8080/"
        },
        "id": "j_EWMco-EI40",
        "outputId": "e162ed60-58eb-4926-c773-a9e371cbbff9"
      },
      "execution_count": 67,
      "outputs": [
        {
          "output_type": "stream",
          "name": "stdout",
          "text": [
            "71/71 [==============================] - 0s 3ms/step - loss: 2.3446 - accuracy: 0.6496\n",
            "Nodes: 4\n",
            "Results: [2.3445634841918945, 0.6495993137359619]\n",
            "=====================================\n",
            "71/71 [==============================] - 0s 3ms/step - loss: 1.7836 - accuracy: 0.7524\n",
            "Nodes: 9\n",
            "Results: [1.783590316772461, 0.7524487972259521]\n",
            "=====================================\n",
            "71/71 [==============================] - 0s 3ms/step - loss: 1.6173 - accuracy: 0.7694\n",
            "Nodes: 14\n",
            "Results: [1.6173458099365234, 0.7693677544593811]\n",
            "=====================================\n",
            "71/71 [==============================] - 0s 4ms/step - loss: 1.5626 - accuracy: 0.7663\n",
            "Nodes: 19\n",
            "Results: [1.562624454498291, 0.7662510871887207]\n",
            "=====================================\n",
            "71/71 [==============================] - 0s 3ms/step - loss: 1.6428 - accuracy: 0.7614\n",
            "Nodes: 24\n",
            "Results: [1.6428074836730957, 0.7613534927368164]\n",
            "=====================================\n",
            "71/71 [==============================] - 0s 4ms/step - loss: 1.6200 - accuracy: 0.7711\n",
            "Nodes: 29\n",
            "Results: [1.6199517250061035, 0.771148681640625]\n",
            "=====================================\n",
            "71/71 [==============================] - 0s 3ms/step - loss: 1.4824 - accuracy: 0.7801\n",
            "Nodes: 34\n",
            "Results: [1.482442855834961, 0.780053436756134]\n",
            "=====================================\n",
            "71/71 [==============================] - 0s 4ms/step - loss: 1.4795 - accuracy: 0.7805\n",
            "Nodes: 39\n",
            "Results: [1.479475498199463, 0.7804986834526062]\n",
            "=====================================\n",
            "71/71 [==============================] - 0s 3ms/step - loss: 1.4990 - accuracy: 0.7765\n",
            "Nodes: 44\n",
            "Results: [1.4990214109420776, 0.7764915227890015]\n",
            "=====================================\n",
            "71/71 [==============================] - 0s 3ms/step - loss: 1.6182 - accuracy: 0.7752\n",
            "Nodes: 49\n",
            "Results: [1.6181625127792358, 0.7751558423042297]\n",
            "=====================================\n",
            "71/71 [==============================] - 0s 4ms/step - loss: 1.5695 - accuracy: 0.7685\n",
            "Nodes: 54\n",
            "Results: [1.5694583654403687, 0.7684773206710815]\n",
            "=====================================\n",
            "71/71 [==============================] - 0s 4ms/step - loss: 1.5882 - accuracy: 0.7725\n",
            "Nodes: 59\n",
            "Results: [1.5882320404052734, 0.7724844217300415]\n",
            "=====================================\n",
            "71/71 [==============================] - 0s 3ms/step - loss: 1.4749 - accuracy: 0.7814\n",
            "Nodes: 64\n",
            "Results: [1.4748821258544922, 0.7813891172409058]\n",
            "=====================================\n",
            "71/71 [==============================] - 0s 3ms/step - loss: 1.5455 - accuracy: 0.7756\n",
            "Nodes: 69\n",
            "Results: [1.5454776287078857, 0.7756010890007019]\n",
            "=====================================\n",
            "71/71 [==============================] - 0s 3ms/step - loss: 1.4883 - accuracy: 0.7850\n",
            "Nodes: 74\n",
            "Results: [1.4882513284683228, 0.7849510312080383]\n",
            "=====================================\n",
            "71/71 [==============================] - 0s 3ms/step - loss: 1.6986 - accuracy: 0.7578\n",
            "Nodes: 79\n",
            "Results: [1.6986032724380493, 0.7577916383743286]\n",
            "=====================================\n",
            "71/71 [==============================] - 0s 3ms/step - loss: 1.5429 - accuracy: 0.7823\n",
            "Nodes: 84\n",
            "Results: [1.5428557395935059, 0.7822796106338501]\n",
            "=====================================\n",
            "71/71 [==============================] - 0s 3ms/step - loss: 1.4917 - accuracy: 0.7752\n",
            "Nodes: 89\n",
            "Results: [1.4917469024658203, 0.7751558423042297]\n",
            "=====================================\n",
            "71/71 [==============================] - 0s 3ms/step - loss: 1.5235 - accuracy: 0.7850\n",
            "Nodes: 94\n",
            "Results: [1.5234651565551758, 0.7849510312080383]\n",
            "=====================================\n",
            "71/71 [==============================] - 0s 3ms/step - loss: 1.5241 - accuracy: 0.7867\n",
            "Nodes: 99\n",
            "Results: [1.5240728855133057, 0.7867319583892822]\n",
            "=====================================\n",
            "71/71 [==============================] - 0s 4ms/step - loss: 1.5193 - accuracy: 0.7823\n",
            "Nodes: 104\n",
            "Results: [1.519266128540039, 0.7822796106338501]\n",
            "=====================================\n",
            "71/71 [==============================] - 0s 3ms/step - loss: 1.6048 - accuracy: 0.7836\n",
            "Nodes: 109\n",
            "Results: [1.6047656536102295, 0.7836152911186218]\n",
            "=====================================\n",
            "71/71 [==============================] - 0s 4ms/step - loss: 1.5249 - accuracy: 0.7818\n",
            "Nodes: 114\n",
            "Results: [1.5248522758483887, 0.7818343639373779]\n",
            "=====================================\n",
            "71/71 [==============================] - 0s 3ms/step - loss: 1.5778 - accuracy: 0.7823\n",
            "Nodes: 119\n",
            "Results: [1.577776312828064, 0.7822796106338501]\n",
            "=====================================\n",
            "71/71 [==============================] - 0s 3ms/step - loss: 1.5620 - accuracy: 0.7850\n",
            "Nodes: 124\n",
            "Results: [1.562006950378418, 0.7849510312080383]\n",
            "=====================================\n",
            "71/71 [==============================] - 0s 3ms/step - loss: 1.5967 - accuracy: 0.7863\n",
            "Nodes: 129\n",
            "Results: [1.596691370010376, 0.7862867116928101]\n",
            "=====================================\n",
            "71/71 [==============================] - 0s 3ms/step - loss: 1.6840 - accuracy: 0.7769\n",
            "Nodes: 134\n",
            "Results: [1.6839962005615234, 0.7769367694854736]\n",
            "=====================================\n",
            "71/71 [==============================] - 0s 3ms/step - loss: 1.7127 - accuracy: 0.7711\n",
            "Nodes: 139\n",
            "Results: [1.7127310037612915, 0.771148681640625]\n",
            "=====================================\n",
            "71/71 [==============================] - 0s 3ms/step - loss: 1.6966 - accuracy: 0.7823\n",
            "Nodes: 144\n",
            "Results: [1.6965982913970947, 0.7822796106338501]\n",
            "=====================================\n",
            "71/71 [==============================] - 0s 4ms/step - loss: 1.6161 - accuracy: 0.7774\n",
            "Nodes: 149\n",
            "Results: [1.6160634756088257, 0.7773820161819458]\n",
            "=====================================\n",
            "71/71 [==============================] - 0s 4ms/step - loss: 1.7130 - accuracy: 0.7738\n",
            "Nodes: 154\n",
            "Results: [1.712954044342041, 0.7738201022148132]\n",
            "=====================================\n",
            "71/71 [==============================] - 0s 4ms/step - loss: 1.6681 - accuracy: 0.7836\n",
            "Nodes: 159\n",
            "Results: [1.6681077480316162, 0.7836152911186218]\n",
            "=====================================\n",
            "71/71 [==============================] - 0s 4ms/step - loss: 1.7310 - accuracy: 0.7769\n",
            "Nodes: 164\n",
            "Results: [1.7309527397155762, 0.7769367694854736]\n",
            "=====================================\n",
            "71/71 [==============================] - 0s 3ms/step - loss: 1.7016 - accuracy: 0.7787\n",
            "Nodes: 169\n",
            "Results: [1.7016314268112183, 0.7787176966667175]\n",
            "=====================================\n",
            "71/71 [==============================] - 0s 3ms/step - loss: 1.6564 - accuracy: 0.7845\n",
            "Nodes: 174\n",
            "Results: [1.6563767194747925, 0.7845057845115662]\n",
            "=====================================\n",
            "71/71 [==============================] - 0s 3ms/step - loss: 1.7030 - accuracy: 0.7783\n",
            "Nodes: 179\n",
            "Results: [1.7029533386230469, 0.7782725095748901]\n",
            "=====================================\n",
            "71/71 [==============================] - 0s 3ms/step - loss: 1.6999 - accuracy: 0.7752\n",
            "Nodes: 184\n",
            "Results: [1.6999403238296509, 0.7751558423042297]\n",
            "=====================================\n",
            "71/71 [==============================] - 0s 3ms/step - loss: 1.6708 - accuracy: 0.7841\n",
            "Nodes: 189\n",
            "Results: [1.6708177328109741, 0.784060537815094]\n",
            "=====================================\n",
            "71/71 [==============================] - 0s 3ms/step - loss: 1.7751 - accuracy: 0.7836\n",
            "Nodes: 194\n",
            "Results: [1.775059700012207, 0.7836152911186218]\n",
            "=====================================\n",
            "71/71 [==============================] - 0s 3ms/step - loss: 1.7931 - accuracy: 0.7752\n",
            "Nodes: 199\n",
            "Results: [1.7931138277053833, 0.7751558423042297]\n",
            "=====================================\n",
            "71/71 [==============================] - 0s 3ms/step - loss: 1.7851 - accuracy: 0.7756\n",
            "Nodes: 204\n",
            "Results: [1.78509521484375, 0.7756010890007019]\n",
            "=====================================\n",
            "71/71 [==============================] - 0s 3ms/step - loss: 1.7299 - accuracy: 0.7858\n",
            "Nodes: 209\n",
            "Results: [1.729933500289917, 0.7858415246009827]\n",
            "=====================================\n",
            "71/71 [==============================] - 0s 3ms/step - loss: 1.9202 - accuracy: 0.7720\n",
            "Nodes: 214\n",
            "Results: [1.920206904411316, 0.7720391750335693]\n",
            "=====================================\n",
            "71/71 [==============================] - 0s 4ms/step - loss: 2.0000 - accuracy: 0.7680\n",
            "Nodes: 219\n",
            "Results: [1.9999854564666748, 0.7680320739746094]\n",
            "=====================================\n",
            "71/71 [==============================] - 0s 3ms/step - loss: 1.9522 - accuracy: 0.7640\n",
            "Nodes: 224\n",
            "Results: [1.9522316455841064, 0.7640249133110046]\n",
            "=====================================\n",
            "71/71 [==============================] - 0s 3ms/step - loss: 1.8607 - accuracy: 0.7711\n",
            "Nodes: 229\n",
            "Results: [1.860735535621643, 0.771148681640625]\n",
            "=====================================\n",
            "71/71 [==============================] - 0s 3ms/step - loss: 1.8673 - accuracy: 0.7743\n",
            "Nodes: 234\n",
            "Results: [1.8673310279846191, 0.7742653489112854]\n",
            "=====================================\n",
            "71/71 [==============================] - 0s 3ms/step - loss: 1.9028 - accuracy: 0.7787\n",
            "Nodes: 239\n",
            "Results: [1.9027807712554932, 0.7787176966667175]\n",
            "=====================================\n",
            "71/71 [==============================] - 0s 3ms/step - loss: 1.7706 - accuracy: 0.7792\n",
            "Nodes: 244\n",
            "Results: [1.770621657371521, 0.7791629433631897]\n",
            "=====================================\n",
            "71/71 [==============================] - 0s 3ms/step - loss: 1.7748 - accuracy: 0.7778\n",
            "Nodes: 249\n",
            "Results: [1.7747803926467896, 0.777827262878418]\n",
            "=====================================\n",
            "71/71 [==============================] - 0s 4ms/step - loss: 1.9315 - accuracy: 0.7760\n",
            "Nodes: 254\n",
            "Results: [1.93145751953125, 0.7760462760925293]\n",
            "=====================================\n"
          ]
        }
      ]
    },
    {
      "cell_type": "code",
      "source": [
        "results[0]"
      ],
      "metadata": {
        "colab": {
          "base_uri": "https://localhost:8080/"
        },
        "id": "uuFAUK3GIdih",
        "outputId": "6f843880-3155-4fbf-b888-7d6e7cb6f2f2"
      },
      "execution_count": 60,
      "outputs": [
        {
          "output_type": "execute_result",
          "data": {
            "text/plain": [
              "1.590584635734558"
            ]
          },
          "metadata": {},
          "execution_count": 60
        }
      ]
    },
    {
      "cell_type": "code",
      "source": [
        "xnode =np.arange(4,256,5)\n",
        "xnode"
      ],
      "metadata": {
        "colab": {
          "base_uri": "https://localhost:8080/"
        },
        "id": "Q-sj_qyyVWPp",
        "outputId": "bf09332b-3cbc-48c2-c962-15e0968b67c1"
      },
      "execution_count": 72,
      "outputs": [
        {
          "output_type": "execute_result",
          "data": {
            "text/plain": [
              "array([  4,   9,  14,  19,  24,  29,  34,  39,  44,  49,  54,  59,  64,\n",
              "        69,  74,  79,  84,  89,  94,  99, 104, 109, 114, 119, 124, 129,\n",
              "       134, 139, 144, 149, 154, 159, 164, 169, 174, 179, 184, 189, 194,\n",
              "       199, 204, 209, 214, 219, 224, 229, 234, 239, 244, 249, 254])"
            ]
          },
          "metadata": {},
          "execution_count": 72
        }
      ]
    },
    {
      "cell_type": "code",
      "source": [
        "import matplotlib.pyplot as plt\n",
        "\n",
        "\n",
        "plt.plot(xnode, results_acc, 'b', label='Accuracy')\n",
        "plt.plot(xnode, results_loss, 'r', label=' loss')\n",
        "plt.title('Results loss')\n",
        "plt.xlabel('Node')\n",
        "plt.ylabel('Loss & Accuracy')\n",
        "plt.legend()\n",
        "plt.show()"
      ],
      "metadata": {
        "colab": {
          "base_uri": "https://localhost:8080/",
          "height": 295
        },
        "id": "vQaxdVthEeOI",
        "outputId": "b9f667d3-73b6-44f5-b64a-0861f54d9181"
      },
      "execution_count": 77,
      "outputs": [
        {
          "output_type": "display_data",
          "data": {
            "text/plain": [
              "<Figure size 432x288 with 1 Axes>"
            ],
            "image/png": "[encoded data removed]"
          },
          "metadata": {
            "needs_background": "light"
          }
        }
      ]
    },
    {
      "cell_type": "code",
      "source": [
        ""
      ],
      "metadata": {
        "id": "9pyUcrdgWPW_"
      },
      "execution_count": null,
      "outputs": []
    }
  ]
}